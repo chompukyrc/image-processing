{
 "cells": [
  {
   "cell_type": "code",
   "execution_count": 6,
   "metadata": {},
   "outputs": [],
   "source": [
    "import cv2\n",
    "import numpy as np\n",
    "from matplotlib import pyplot as plt"
   ]
  },
  {
   "cell_type": "code",
   "execution_count": 7,
   "metadata": {},
   "outputs": [],
   "source": [
    "file_path = ('data/jupz-chom.jpg')"
   ]
  },
  {
   "cell_type": "markdown",
   "metadata": {},
   "source": [
    "# 2.1.1"
   ]
  },
  {
   "cell_type": "code",
   "execution_count": 8,
   "metadata": {},
   "outputs": [],
   "source": [
    "\n",
    "img = cv2.imread(file_path)\n",
    "\n",
    "fourcc = cv2.VideoWriter_fourcc(*'mp4v')\n",
    "out = cv2.VideoWriter('video/output.mp4', fourcc, 15.0, (len(img[0]),len(img)))\n",
    "l = [[1,2],[0.5,4],[0.75,10],[1.5,-4],[-0.25,5],[-1,4.2],[1.25,-4],[1.25,6],[0.81,-9],[0.14,6.3],[1,-4.5],\n",
    "     [0.4,5.9],[0.7,6],[-0.3,-2],[1.1,4],[1.5,-0.5],[-0.3,-2],[0.45,1],[1.2,3],[-1.3,-2],[0.09,2.5]]\n",
    "for i in l:\n",
    "  tmp = img.copy().astype(float)\n",
    "  tmp = i[0]*tmp+i[1]\n",
    "  tmp[tmp>255]=255\n",
    "  tmp[tmp<0]=0\n",
    "  out.write(tmp.astype(np.uint8))\n",
    "out.release()"
   ]
  },
  {
   "cell_type": "markdown",
   "metadata": {},
   "source": [
    "# 2.1.2"
   ]
  },
  {
   "cell_type": "code",
   "execution_count": 9,
   "metadata": {},
   "outputs": [],
   "source": [
    "out = cv2.VideoWriter('video/output2.mp4', fourcc, 5.0, (len(img[0]),len(img)))\n",
    "def qt(m):\n",
    "  ma,mi=np.max(m),np.min(m)\n",
    "  return (m-mi)/(ma-mi)*255\n",
    "\n",
    "tmp = img.copy().astype(float)\n",
    "out.write(qt(tmp**0.05).astype(np.uint8))\n",
    "i=0.1\n",
    "while i<=2:\n",
    "  tmp = img.copy().astype(float)\n",
    "  out.write(qt(tmp**i).astype(np.uint8))\n",
    "  i+=0.1\n",
    "out.release()"
   ]
  }
 ],
 "metadata": {
  "kernelspec": {
   "display_name": "env",
   "language": "python",
   "name": "python3"
  },
  "language_info": {
   "codemirror_mode": {
    "name": "ipython",
    "version": 3
   },
   "file_extension": ".py",
   "mimetype": "text/x-python",
   "name": "python",
   "nbconvert_exporter": "python",
   "pygments_lexer": "ipython3",
   "version": "3.9.6"
  },
  "orig_nbformat": 4
 },
 "nbformat": 4,
 "nbformat_minor": 2
}
